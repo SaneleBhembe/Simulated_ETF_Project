{
 "cells": [
  {
   "cell_type": "markdown",
   "metadata": {},
   "source": [
    "# QCTO - Workplace Module\n",
    "\n",
    "### Project Title: Simulated Factor-Based ETF\n",
    "#### Done By: Sanele Bhembe\n",
    "\n",
    "© ExploreAI 2024\n",
    "\n",
    "---\n",
    "\n",
    "## Table of Contents\n",
    "\n",
    "<a href=#BC> Background Context</a>\n",
    "\n",
    "<a href=#one>1. Importing Packages</a>\n",
    "\n",
    "<a href=#two>2. Data Collection and Description</a>\n",
    "\n",
    "<a href=#three>3. Loading Data </a>\n",
    "\n",
    "<a href=#four>4. Data Cleaning and Filtering</a>\n",
    "\n",
    "<a href=#five>5. Exploratory Data Analysis (EDA)</a>\n",
    "\n",
    "<a href=#six>6. Modeling </a>\n",
    "\n",
    "<a href=#seven>7. Evaluation and Validation</a>\n",
    "\n",
    "<a href=#eight>8. Final Model</a>\n",
    "\n",
    "<a href=#nine>9. Conclusion and Future Work</a>\n",
    "\n",
    "<a href=#ten>10. References</a>"
   ]
  },
  {
   "cell_type": "markdown",
   "metadata": {},
   "source": [
    "---\n",
    " <a id=\"BC\"></a>\n",
    "## **Background Context**\n",
    "<a href=#cont>Back to Table of Contents</a>\n",
    "\n",
    "### **Introduction**\n",
    "Exchange-Traded Funds (ETFs) are investment funds that track a basket of assets such as stocks, bonds, or commodities. They allow investors to gain diversified exposure to a market or sector without purchasing individual stocks. ETFs are often passively managed, following an index or specific criteria, but some may be actively rebalanced. \n",
    "\n",
    "In this project, the goal is to simulate a factor-based ETF using historical stock data from the Johannesburg Stock Exchange market. By selecting well-performing stocks based on historical performance metrics, a model ETF will be constructed to track their collective performance. Additionally, different portfolio rebalancing strategies will be explored to optimize returns and manage risk.\n",
    "\n",
    "* **Purpose:** Introduce the project, outline its goals, and explain its significance.\n",
    "* **Details:** Include information about the problem domain, the specific questions or challenges the project aims to address, and any relevant background information that sets the stage for the work.\n",
    "---"
   ]
  },
  {
   "cell_type": "markdown",
   "metadata": {},
   "source": [
    "---\n",
    "<a href=#one></a>\n",
    "## **Importing Packages**\n",
    "<a href=#cont>Back to Table of Contents</a>\n",
    "\n",
    "* **Purpose:** Set up the Python environment with necessary libraries and tools.\n",
    "* **Details:** List and import all the Python packages that will be used throughout the project such as Pandas for data manipulation, Matplotlib/Seaborn for visualization, scikit-learn for modeling, etc.\n",
    "---"
   ]
  },
  {
   "cell_type": "code",
   "execution_count": 1,
   "metadata": {},
   "outputs": [],
   "source": [
    "import pandas as pd\n",
    "import numpy as np\n",
    "import matplotlib.pyplot as plt\n",
    "import seaborn as sns"
   ]
  },
  {
   "cell_type": "markdown",
   "metadata": {},
   "source": [
    "---\n",
    "<a href=#two></a>\n",
    "## **Data Collection and Description**\n",
    "<a href=#cont>Back to Table of Contents</a>\n",
    "\n",
    "There are two main datasets used in this project, the histocical data of individual stocks listed in the JSE market and the JSE Top 40 index historic data. The individual stocks data was sourced from kaggle (link to dataset - https://www.kaggle.com/datasets/eren2222/south-africa-daily-historical-stock-1998-2024) and the jSE Top 40 dataset was collected from investing.com, a website with historic stock data for local and global markets. The individual stocks dataset contains 6 columns namely:\n",
    "* `'Date'`: This column contains the date for each recorded stock price (daily)\n",
    "\n",
    "* `'Ticker'`: This column contains the stock symbols of the companies\n",
    "\n",
    "* `'Company_Name'`: This column contains the name of the companies\n",
    "\n",
    "* `'Open'`: This column contains the open price of each day\n",
    "\n",
    "* `'High'`: This column contains the high price of each day\n",
    "\n",
    "* `'Low'`: This column contains the low price of each day\n",
    "\n",
    "* `'Close'`: This column contains the close price of each day\n",
    "\n",
    "* `'Adj Close'`: This column contains the adjusted close price of each day\n",
    "\n",
    "* `'Volume'`: This column contains the total volume of shares traded in each day\n",
    "\n",
    "* **Purpose:** Describe how the data was collected and provide an overview of its characteristics.\n",
    "* **Details:** Mention sources of the data, the methods used for collection (e.g., APIs, web scraping, datasets from repositories), and a general description of the dataset including size, scope, and types of data available (e.g., numerical, categorical).\n",
    "---"
   ]
  },
  {
   "cell_type": "code",
   "execution_count": null,
   "metadata": {},
   "outputs": [],
   "source": [
    "#Please use code cells to code in and do not forget to comment your code."
   ]
  },
  {
   "cell_type": "markdown",
   "metadata": {},
   "source": [
    "---\n",
    "<a href=#three></a>\n",
    "## **Loading Data**\n",
    "<a href=#cont>Back to Table of Contents</a>\n",
    "\n",
    "* **Purpose:** Load the data into the notebook for manipulation and analysis.\n",
    "* **Details:** Show the code used to load the data and display the first few rows to give a sense of what the raw data looks like.\n",
    "---"
   ]
  },
  {
   "cell_type": "code",
   "execution_count": 5,
   "metadata": {},
   "outputs": [],
   "source": [
    "#Loading the historical individual stock data\n",
    "df = pd.read_csv('Data/SA_Stock_Market.csv', index_col=0)\n",
    "\n",
    "#Loading the benchmark data JSE Top 40 (J200)\n",
    "j200 = pd.read_csv('Data/South Africa Top 40 Historical Data.csv')"
   ]
  },
  {
   "cell_type": "markdown",
   "metadata": {},
   "source": [
    "---\n",
    "<a href=#four></a>\n",
    "## **Data Cleaning and Filtering**\n",
    "<a href=#cont>Back to Table of Contents</a>\n",
    "\n",
    "* **Purpose:** Prepare the data for analysis by cleaning and filtering.\n",
    "* **Details:** Include steps for handling missing values, removing outliers, correcting errors, and possibly reducing the data (filtering based on certain criteria or features).\n",
    "---"
   ]
  },
  {
   "cell_type": "code",
   "execution_count": 7,
   "metadata": {},
   "outputs": [
    {
     "name": "stdout",
     "output_type": "stream",
     "text": [
      "<class 'pandas.core.frame.DataFrame'>\n",
      "Index: 891980 entries, 0 to 891979\n",
      "Data columns (total 9 columns):\n",
      " #   Column        Non-Null Count   Dtype  \n",
      "---  ------        --------------   -----  \n",
      " 0   Date          891980 non-null  object \n",
      " 1   Ticker        891980 non-null  object \n",
      " 2   Company_Name  891980 non-null  object \n",
      " 3   Open          891961 non-null  float64\n",
      " 4   High          891961 non-null  float64\n",
      " 5   Low           891961 non-null  float64\n",
      " 6   Close         891961 non-null  float64\n",
      " 7   Adj Close     891961 non-null  float64\n",
      " 8   Volume        891961 non-null  float64\n",
      "dtypes: float64(6), object(3)\n",
      "memory usage: 68.1+ MB\n"
     ]
    }
   ],
   "source": [
    "# Historical stock data (df)\n",
    "df.info()"
   ]
  },
  {
   "cell_type": "code",
   "execution_count": 9,
   "metadata": {},
   "outputs": [
    {
     "data": {
      "text/plain": [
       "Date             0\n",
       "Ticker           0\n",
       "Company_Name     0\n",
       "Open            19\n",
       "High            19\n",
       "Low             19\n",
       "Close           19\n",
       "Adj Close       19\n",
       "Volume          19\n",
       "dtype: int64"
      ]
     },
     "execution_count": 9,
     "metadata": {},
     "output_type": "execute_result"
    }
   ],
   "source": [
    "# Checking null values\n",
    "df.isnull().sum()"
   ]
  },
  {
   "cell_type": "code",
   "execution_count": 11,
   "metadata": {},
   "outputs": [],
   "source": [
    "df.dropna(inplace=True)"
   ]
  },
  {
   "cell_type": "code",
   "execution_count": 13,
   "metadata": {},
   "outputs": [],
   "source": [
    "df[\"Date\"] = pd.to_datetime(df[\"Date\"])"
   ]
  },
  {
   "cell_type": "code",
   "execution_count": 15,
   "metadata": {},
   "outputs": [
    {
     "name": "stdout",
     "output_type": "stream",
     "text": [
      "<class 'pandas.core.frame.DataFrame'>\n",
      "RangeIndex: 4998 entries, 0 to 4997\n",
      "Data columns (total 7 columns):\n",
      " #   Column    Non-Null Count  Dtype \n",
      "---  ------    --------------  ----- \n",
      " 0   Date      4998 non-null   object\n",
      " 1   Price     4998 non-null   object\n",
      " 2   Open      4998 non-null   object\n",
      " 3   High      4998 non-null   object\n",
      " 4   Low       4998 non-null   object\n",
      " 5   Vol.      4929 non-null   object\n",
      " 6   Change %  4998 non-null   object\n",
      "dtypes: object(7)\n",
      "memory usage: 273.5+ KB\n"
     ]
    }
   ],
   "source": [
    "# J200 data\n",
    "j200.info()"
   ]
  },
  {
   "cell_type": "code",
   "execution_count": 17,
   "metadata": {},
   "outputs": [],
   "source": [
    "j200.dropna(inplace=True)"
   ]
  },
  {
   "cell_type": "code",
   "execution_count": 19,
   "metadata": {},
   "outputs": [],
   "source": [
    "j200['Date'] = pd.to_datetime(j200['Date'])\n",
    "j200['Price'] = j200['Price'].str.replace(',', '')\n",
    "j200['Open'] = j200['Open'].str.replace(',', '')\n",
    "j200['High'] = j200['High'].str.replace(',', '')\n",
    "j200['Low'] = j200['Low'].str.replace(',', '')\n",
    "j200['Vol.'] = j200['Vol.'].str.replace('M', '')\n",
    "j200.loc[j200[\"Vol.\"].str.contains(\"K\", na=False), \"Vol_K\"] = j200[\"Vol.\"]\n",
    "j200['Vol.'] = j200['Vol.'].str.replace('K', '')\n",
    "j200['Vol_K'] = j200['Vol_K'].str.replace('K', '')\n",
    "j200['Change %'] = j200['Change %'].str.replace('%', '')\n",
    "\n",
    "\n",
    "j200['Price'] = j200['Price'].astype('float32')\n",
    "j200['Open'] = j200['Open'].astype('float32')\n",
    "j200['High'] = j200['High'].astype('float32')\n",
    "j200['Low'] = j200['Low'].astype('float32')\n",
    "j200['Vol.'] = j200['Vol.'].astype('float32')\n",
    "j200['Change %'] = j200['Change %'].astype('float32')\n",
    "j200['Vol_K'] = j200['Vol_K'].astype('float32')\n",
    "j200['Vol.'] = j200['Vol.'] * 1000000\n",
    "j200['Vol_K'] = j200['Vol_K'] * 1000\n",
    "j200.loc[~j200['Vol_K'].isna(), 'Vol.'] = j200['Vol_K']\n",
    "j200.drop(columns={'Vol_K'}, axis=1, inplace=True)\n",
    "\n",
    "j200.sort_values(by='Date', inplace=True)"
   ]
  },
  {
   "cell_type": "code",
   "execution_count": 21,
   "metadata": {},
   "outputs": [
    {
     "name": "stdout",
     "output_type": "stream",
     "text": [
      "<class 'pandas.core.frame.DataFrame'>\n",
      "Index: 4929 entries, 4997 to 0\n",
      "Data columns (total 7 columns):\n",
      " #   Column    Non-Null Count  Dtype         \n",
      "---  ------    --------------  -----         \n",
      " 0   Date      4929 non-null   datetime64[ns]\n",
      " 1   Price     4929 non-null   float32       \n",
      " 2   Open      4929 non-null   float32       \n",
      " 3   High      4929 non-null   float32       \n",
      " 4   Low       4929 non-null   float32       \n",
      " 5   Vol.      4929 non-null   float64       \n",
      " 6   Change %  4929 non-null   float32       \n",
      "dtypes: datetime64[ns](1), float32(5), float64(1)\n",
      "memory usage: 211.8 KB\n"
     ]
    }
   ],
   "source": [
    "j200.info()"
   ]
  },
  {
   "cell_type": "markdown",
   "metadata": {},
   "source": [
    "---\n",
    "<a href=#five></a>\n",
    "## **Exploratory Data Analysis (EDA)**\n",
    "<a href=#cont>Back to Table of Contents</a>\n",
    "\n",
    "* **Purpose:** Explore and visualize the data to uncover patterns, trends, and relationships.\n",
    "* **Details:** Use statistics and visualizations to explore the data. This may include histograms, box plots, scatter plots, and correlation matrices. Discuss any significant findings.\n",
    "---\n"
   ]
  },
  {
   "cell_type": "code",
   "execution_count": 23,
   "metadata": {},
   "outputs": [
    {
     "name": "stdout",
     "output_type": "stream",
     "text": [
      "Stocks in the data: 193\n"
     ]
    }
   ],
   "source": [
    "# How many unique stocks we have in the df data\n",
    "print(f'Stocks in the data: {len(df['Ticker'].unique())}')"
   ]
  },
  {
   "cell_type": "code",
   "execution_count": 25,
   "metadata": {},
   "outputs": [
    {
     "name": "stdout",
     "output_type": "stream",
     "text": [
      "Earliest Date: 1998-12-30 00:00:00\n",
      "Latest Date: 2024-05-22 00:00:00\n"
     ]
    }
   ],
   "source": [
    "# Date range\n",
    "print(f'Earliest Date: {df['Date'].min()}')\n",
    "print(f'Latest Date: {df['Date'].max()}')"
   ]
  },
  {
   "cell_type": "code",
   "execution_count": 27,
   "metadata": {},
   "outputs": [],
   "source": [
    "# Count of stock per year over the years\n",
    "stocks_per_year = df[['Date', 'Ticker']].copy()\n",
    "stocks_per_year['Date'] = stocks_per_year['Date'].dt.year\n",
    "stocks_per_year = stocks_per_year.groupby('Date')['Ticker'].nunique().reset_index(name='Ticker_Count')\n"
   ]
  },
  {
   "cell_type": "code",
   "execution_count": 29,
   "metadata": {},
   "outputs": [
    {
     "data": {
      "image/png": "[encoded data removed]",
      "text/plain": [
       "<Figure size 1200x600 with 1 Axes>"
      ]
     },
     "metadata": {},
     "output_type": "display_data"
    }
   ],
   "source": [
    "plt.figure(figsize=(12, 6))\n",
    "sns.barplot(x=stocks_per_year['Date'], y=stocks_per_year['Ticker_Count'])\n",
    "plt.title('Count of Traded Stocks Per Year')\n",
    "plt.xticks(rotation=45)\n",
    "plt.show()"
   ]
  },
  {
   "cell_type": "markdown",
   "metadata": {},
   "source": [
    "---\n",
    "<a href=#six></a>\n",
    "## **Modeling**\n",
    "<a href=#cont>Back to Table of Contents</a>\n",
    "\n",
    "* **Purpose:** Develop and train predictive or statistical models.\n",
    "* **Details:** Describe the choice of models, feature selection and engineering processes, and show how the models are trained. Include code for setting up the models and explanations of the model parameters.\n",
    "---\n"
   ]
  },
  {
   "cell_type": "code",
   "execution_count": null,
   "metadata": {},
   "outputs": [],
   "source": [
    "#Please use code cells to code in and do not forget to comment your code."
   ]
  },
  {
   "cell_type": "markdown",
   "metadata": {},
   "source": [
    "---\n",
    "<a href=#seven></a>\n",
    "## **Evaluation and Validation**\n",
    "<a href=#cont>Back to Table of Contents</a>\n",
    "\n",
    "* **Purpose:** Evaluate and validate the effectiveness and accuracy of the models.\n",
    "* **Details:** Present metrics used to evaluate the models, such as accuracy, precision, recall, F1-score, etc. Discuss validation techniques employed, such as cross-validation or train/test split.\n",
    "---"
   ]
  },
  {
   "cell_type": "code",
   "execution_count": null,
   "metadata": {},
   "outputs": [],
   "source": [
    "#Please use code cells to code in and do not forget to comment your code."
   ]
  },
  {
   "cell_type": "markdown",
   "metadata": {},
   "source": [
    "---\n",
    "<a href=#eight></a>\n",
    "## **Final Model**\n",
    "<a href=#cont>Back to Table of Contents</a>\n",
    "\n",
    "* **Purpose:** Present the final model and its performance.\n",
    "* **Details:** Highlight the best-performing model and discuss its configuration, performance, and why it was chosen over others.\n",
    "---\n"
   ]
  },
  {
   "cell_type": "code",
   "execution_count": null,
   "metadata": {},
   "outputs": [],
   "source": [
    "#Please use code cells to code in and do not forget to comment your code."
   ]
  },
  {
   "cell_type": "markdown",
   "metadata": {},
   "source": [
    "---\n",
    "<a href=#nine></a>\n",
    "## **Conclusion and Future Work**\n",
    "<a href=#cont>Back to Table of Contents</a>\n",
    "\n",
    "* **Purpose:** Summarize the findings and discuss future directions.\n",
    "* **Details:** Conclude with a summary of the results, insights gained, limitations of the study, and suggestions for future projects or improvements in methodology or data collection.\n",
    "---\n"
   ]
  },
  {
   "cell_type": "code",
   "execution_count": null,
   "metadata": {},
   "outputs": [],
   "source": [
    "#Please use code cells to code in and do not forget to comment your code."
   ]
  },
  {
   "cell_type": "markdown",
   "metadata": {},
   "source": [
    "---\n",
    "<a href=#ten></a>\n",
    "## **References**\n",
    "<a href=#cont>Back to Table of Contents</a>\n",
    "\n",
    "* **Purpose:** Provide citations and sources of external content.\n",
    "* **Details:** List all the references and sources consulted during the project, including data sources, research papers, and documentation for tools and libraries used.\n",
    "---"
   ]
  },
  {
   "cell_type": "code",
   "execution_count": null,
   "metadata": {},
   "outputs": [],
   "source": [
    "#Please use code cells to code in and do not forget to comment your code."
   ]
  },
  {
   "cell_type": "markdown",
   "metadata": {},
   "source": [
    "## Additional Sections to Consider\n",
    "\n",
    "* ### Appendix: \n",
    "For any additional code, detailed tables, or extended data visualizations that are supplementary to the main content.\n",
    "\n",
    "* ### Contributors: \n",
    "If this is a group project, list the contributors and their roles or contributions to the project.\n"
   ]
  }
 ],
 "metadata": {
  "kernelspec": {
   "display_name": "Python 3 (ipykernel)",
   "language": "python",
   "name": "python3"
  },
  "language_info": {
   "codemirror_mode": {
    "name": "ipython",
    "version": 3
   },
   "file_extension": ".py",
   "mimetype": "text/x-python",
   "name": "python",
   "nbconvert_exporter": "python",
   "pygments_lexer": "ipython3",
   "version": "3.12.7"
  }
 },
 "nbformat": 4,
 "nbformat_minor": 4
}
